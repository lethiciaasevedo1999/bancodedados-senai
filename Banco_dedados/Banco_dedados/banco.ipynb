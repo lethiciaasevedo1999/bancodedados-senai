{
 "cells": [
  {
   "cell_type": "markdown",
   "metadata": {},
   "source": [
    "### Importando a biblioteca "
   ]
  },
  {
   "cell_type": "code",
   "execution_count": 6,
   "metadata": {},
   "outputs": [],
   "source": [
    "import pandas as pd\n",
    "import matplotlib as plt"
   ]
  },
  {
   "cell_type": "markdown",
   "metadata": {},
   "source": [
    "### Criando o dataframe do banco de dados"
   ]
  },
  {
   "cell_type": "code",
   "execution_count": 9,
   "metadata": {},
   "outputs": [
    {
     "data": {
      "text/html": [
       "<div>\n",
       "<style scoped>\n",
       "    .dataframe tbody tr th:only-of-type {\n",
       "        vertical-align: middle;\n",
       "    }\n",
       "\n",
       "    .dataframe tbody tr th {\n",
       "        vertical-align: top;\n",
       "    }\n",
       "\n",
       "    .dataframe thead th {\n",
       "        text-align: right;\n",
       "    }\n",
       "</style>\n",
       "<table border=\"1\" class=\"dataframe\">\n",
       "  <thead>\n",
       "    <tr style=\"text-align: right;\">\n",
       "      <th></th>\n",
       "      <th>Unnamed: 0</th>\n",
       "      <th>id_cliente</th>\n",
       "      <th>nome</th>\n",
       "      <th>nomeSocial</th>\n",
       "      <th>genero</th>\n",
       "      <th>dataNascimento</th>\n",
       "      <th>documento</th>\n",
       "      <th>tipoDocumento</th>\n",
       "    </tr>\n",
       "  </thead>\n",
       "  <tbody>\n",
       "    <tr>\n",
       "      <th>0</th>\n",
       "      <td>0</td>\n",
       "      <td>1</td>\n",
       "      <td>Huguinho</td>\n",
       "      <td>NaN</td>\n",
       "      <td>masculino</td>\n",
       "      <td>1980-03-03</td>\n",
       "      <td>741.852.963/89</td>\n",
       "      <td>CPF</td>\n",
       "    </tr>\n",
       "    <tr>\n",
       "      <th>1</th>\n",
       "      <td>1</td>\n",
       "      <td>2</td>\n",
       "      <td>Sivester Star Longe</td>\n",
       "      <td>NaN</td>\n",
       "      <td>masculino</td>\n",
       "      <td>1980-03-03</td>\n",
       "      <td>123.456.789/09</td>\n",
       "      <td>CPF</td>\n",
       "    </tr>\n",
       "    <tr>\n",
       "      <th>2</th>\n",
       "      <td>2</td>\n",
       "      <td>3</td>\n",
       "      <td>Zezinho</td>\n",
       "      <td>NaN</td>\n",
       "      <td>masculino</td>\n",
       "      <td>1985-02-05</td>\n",
       "      <td>12.123.456-3</td>\n",
       "      <td>RG</td>\n",
       "    </tr>\n",
       "    <tr>\n",
       "      <th>3</th>\n",
       "      <td>3</td>\n",
       "      <td>5</td>\n",
       "      <td>Lindinha</td>\n",
       "      <td>NaN</td>\n",
       "      <td>feminino</td>\n",
       "      <td>2000-02-02</td>\n",
       "      <td>963.852.741/25</td>\n",
       "      <td>CPF</td>\n",
       "    </tr>\n",
       "    <tr>\n",
       "      <th>4</th>\n",
       "      <td>4</td>\n",
       "      <td>6</td>\n",
       "      <td>Docinho</td>\n",
       "      <td>NaN</td>\n",
       "      <td>feminino</td>\n",
       "      <td>2000-02-02</td>\n",
       "      <td>98.321.654-0</td>\n",
       "      <td>RG</td>\n",
       "    </tr>\n",
       "    <tr>\n",
       "      <th>...</th>\n",
       "      <td>...</td>\n",
       "      <td>...</td>\n",
       "      <td>...</td>\n",
       "      <td>...</td>\n",
       "      <td>...</td>\n",
       "      <td>...</td>\n",
       "      <td>...</td>\n",
       "      <td>...</td>\n",
       "    </tr>\n",
       "    <tr>\n",
       "      <th>1001</th>\n",
       "      <td>1001</td>\n",
       "      <td>1003</td>\n",
       "      <td>Igor Lopes</td>\n",
       "      <td>NaN</td>\n",
       "      <td>Masculino</td>\n",
       "      <td>2004-07-09</td>\n",
       "      <td>358.607.124-80</td>\n",
       "      <td>CPF</td>\n",
       "    </tr>\n",
       "    <tr>\n",
       "      <th>1002</th>\n",
       "      <td>1002</td>\n",
       "      <td>1004</td>\n",
       "      <td>Bianca Ribeiro</td>\n",
       "      <td>NaN</td>\n",
       "      <td>Feminino</td>\n",
       "      <td>1987-07-26</td>\n",
       "      <td>657.419.380-00</td>\n",
       "      <td>CPF</td>\n",
       "    </tr>\n",
       "    <tr>\n",
       "      <th>1003</th>\n",
       "      <td>1003</td>\n",
       "      <td>1005</td>\n",
       "      <td>João Miguel da Paz</td>\n",
       "      <td>NaN</td>\n",
       "      <td>Masculino</td>\n",
       "      <td>1945-05-23</td>\n",
       "      <td>841.295.037-23</td>\n",
       "      <td>CPF</td>\n",
       "    </tr>\n",
       "    <tr>\n",
       "      <th>1004</th>\n",
       "      <td>1004</td>\n",
       "      <td>1006</td>\n",
       "      <td>Maria Julia Cardoso</td>\n",
       "      <td>NaN</td>\n",
       "      <td>Feminino</td>\n",
       "      <td>1935-07-22</td>\n",
       "      <td>419.765.803-66</td>\n",
       "      <td>CPF</td>\n",
       "    </tr>\n",
       "    <tr>\n",
       "      <th>1005</th>\n",
       "      <td>1005</td>\n",
       "      <td>1008</td>\n",
       "      <td>Arouldo Xuxu</td>\n",
       "      <td>NaN</td>\n",
       "      <td>masculino</td>\n",
       "      <td>1955-02-05</td>\n",
       "      <td>12.321.654-3</td>\n",
       "      <td>RG</td>\n",
       "    </tr>\n",
       "  </tbody>\n",
       "</table>\n",
       "<p>1006 rows × 8 columns</p>\n",
       "</div>"
      ],
      "text/plain": [
       "      Unnamed: 0  id_cliente                 nome  nomeSocial     genero  \\\n",
       "0              0           1             Huguinho         NaN  masculino   \n",
       "1              1           2  Sivester Star Longe         NaN  masculino   \n",
       "2              2           3              Zezinho         NaN  masculino   \n",
       "3              3           5             Lindinha         NaN   feminino   \n",
       "4              4           6              Docinho         NaN   feminino   \n",
       "...          ...         ...                  ...         ...        ...   \n",
       "1001        1001        1003           Igor Lopes         NaN  Masculino   \n",
       "1002        1002        1004       Bianca Ribeiro         NaN   Feminino   \n",
       "1003        1003        1005   João Miguel da Paz         NaN  Masculino   \n",
       "1004        1004        1006  Maria Julia Cardoso         NaN   Feminino   \n",
       "1005        1005        1008         Arouldo Xuxu         NaN  masculino   \n",
       "\n",
       "     dataNascimento       documento tipoDocumento  \n",
       "0        1980-03-03  741.852.963/89           CPF  \n",
       "1        1980-03-03  123.456.789/09           CPF  \n",
       "2        1985-02-05    12.123.456-3            RG  \n",
       "3        2000-02-02  963.852.741/25           CPF  \n",
       "4        2000-02-02    98.321.654-0            RG  \n",
       "...             ...             ...           ...  \n",
       "1001     2004-07-09  358.607.124-80           CPF  \n",
       "1002     1987-07-26  657.419.380-00           CPF  \n",
       "1003     1945-05-23  841.295.037-23           CPF  \n",
       "1004     1935-07-22  419.765.803-66           CPF  \n",
       "1005     1955-02-05    12.321.654-3            RG  \n",
       "\n",
       "[1006 rows x 8 columns]"
      ]
     },
     "execution_count": 9,
     "metadata": {},
     "output_type": "execute_result"
    }
   ],
   "source": [
    "df = pd.read_csv('Jorge.csv')\n",
    "df"
   ]
  },
  {
   "cell_type": "markdown",
   "metadata": {},
   "source": [
    "### Criando gráficos"
   ]
  },
  {
   "cell_type": "code",
   "execution_count": 17,
   "metadata": {},
   "outputs": [
    {
     "data": {
      "text/plain": [
       "genero\n",
       "Masculino    508\n",
       "Feminino     491\n",
       "masculino      4\n",
       "feminino       3\n",
       "Name: count, dtype: int64"
      ]
     },
     "execution_count": 17,
     "metadata": {},
     "output_type": "execute_result"
    }
   ],
   "source": [
    "generos = df['genero'].value_counts()\n",
    "generos"
   ]
  },
  {
   "cell_type": "code",
   "execution_count": 19,
   "metadata": {},
   "outputs": [
    {
     "data": {
      "text/plain": [
       "Text(0.5, 1.0, 'Quantidade por gênero')"
      ]
     },
     "execution_count": 19,
     "metadata": {},
     "output_type": "execute_result"
    },
    {
     "data": {
      "image/png": "[encoded data removed]",
      "text/plain": [
       "<Figure size 640x480 with 1 Axes>"
      ]
     },
     "metadata": {},
     "output_type": "display_data"
    }
   ],
   "source": [
    "ax = generos.plot(kind='barh', color='blue')\n",
    "ax.set_xlabel('Quantia')\n",
    "ax.set_ylabel('Gêneros')\n",
    "ax.set_title('Quantidade por gênero')"
   ]
  }
 ],
 "metadata": {
  "kernelspec": {
   "display_name": "Python 3",
   "language": "python",
   "name": "python3"
  },
  "language_info": {
   "codemirror_mode": {
    "name": "ipython",
    "version": 3
   },
   "file_extension": ".py",
   "mimetype": "text/x-python",
   "name": "python",
   "nbconvert_exporter": "python",
   "pygments_lexer": "ipython3",
   "version": "3.11.7"
  }
 },
 "nbformat": 4,
 "nbformat_minor": 2
}
